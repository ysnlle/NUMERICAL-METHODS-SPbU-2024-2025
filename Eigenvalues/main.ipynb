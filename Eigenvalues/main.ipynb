{
 "cells": [
  {
   "cell_type": "code",
   "execution_count": null,
   "id": "7b601e5a-9ce4-4a2f-8061-ffe63dcf863d",
   "metadata": {},
   "outputs": [],
   "source": [
    "import help\n",
    "from ClassMatrix import Matrix\n",
    "from funcs import *\n"
   ]
  },
  {
   "cell_type": "code",
   "execution_count": 2,
   "id": "2546587d",
   "metadata": {},
   "outputs": [
    {
     "name": "stdout",
     "output_type": "stream",
     "text": [
      "Digonal Matrix\n",
      "       9.0000000000000000         0.0000000000000000         0.0000000000000000\n",
      "       0.0000000000000000         1.0000000000000000         0.0000000000000000\n",
      "       0.0000000000000000         0.0000000000000000         1.0000000000000000\n",
      "\n",
      "A= \n",
      "       9.3509293680297390         1.2847583643122675         0.6423791821561338\n",
      "       0.1546468401486988         1.0237918215613382         0.0118959107806691\n",
      "      -4.8713754646840153        -0.7494423791821562         0.6252788104089220\n"
     ]
    }
   ],
   "source": [
    "\n",
    "n = 3\n",
    "C = help.randmat(n)\n",
    "L = help.randdiag(n)\n",
    "A = C.Inv() * L * C\n",
    "print('Digonal Matrix')\n",
    "L.PrintM()\n",
    "print()\n",
    "print('A= ' )\n",
    "A.PrintM(16, 25)\n"
   ]
  },
  {
   "cell_type": "markdown",
   "id": "993c6fe0-6d1d-4803-a7fb-1f54e2587995",
   "metadata": {},
   "source": [
    "## Power Method:"
   ]
  },
  {
   "cell_type": "code",
   "execution_count": 3,
   "id": "5b95d708",
   "metadata": {},
   "outputs": [
    {
     "name": "stdout",
     "output_type": "stream",
     "text": [
      "Maximum Eigenvalue: 8.999997616528214\n",
      "Corresponding Eigenvector:\n",
      "       0.8636684151109645\n",
      "       0.0159938597283187\n",
      "      -0.5038065751761338\n"
     ]
    }
   ],
   "source": [
    "pair = PM(A)\n",
    "print('Maximum Eigenvalue:', pair[0])\n",
    "print('Corresponding Eigenvector:')\n",
    "pair[1].PrintM()"
   ]
  },
  {
   "cell_type": "markdown",
   "id": "7184fe9f",
   "metadata": {},
   "source": [
    "## Inverted Power Method"
   ]
  },
  {
   "cell_type": "code",
   "execution_count": 4,
   "id": "6b4724b5",
   "metadata": {},
   "outputs": [
    {
     "name": "stdout",
     "output_type": "stream",
     "text": [
      "Minimal Eigenvalue: 1.0\n",
      "Corresponding Eigenvector:\n",
      "      -0.1407245227621085\n",
      "       0.4824316073796029\n",
      "       0.8645555811482044\n"
     ]
    }
   ],
   "source": [
    "pair = InvertedPM(A, 0)\n",
    "print('Minimal Eigenvalue:', pair[0])\n",
    "print('Corresponding Eigenvector:')\n",
    "pair[1].PrintM()"
   ]
  },
  {
   "cell_type": "markdown",
   "id": "4f611015",
   "metadata": {},
   "source": [
    "## QR Algorithm"
   ]
  },
  {
   "cell_type": "code",
   "execution_count": 5,
   "id": "13269290",
   "metadata": {},
   "outputs": [
    {
     "name": "stdout",
     "output_type": "stream",
     "text": [
      "Eigenvalues:\n",
      "    0.9999999999999993\n",
      "    0.9999999999999994\n",
      "    8.999999999999996\n"
     ]
    }
   ],
   "source": [
    "eigens = AlgQR(A)\n",
    "print('Eigenvalues:')\n",
    "for i in range(n):\n",
    "    print(f'    {eigens[i]}')"
   ]
  }
 ],
 "metadata": {
  "kernelspec": {
   "display_name": "Python 3",
   "language": "python",
   "name": "python3"
  },
  "language_info": {
   "codemirror_mode": {
    "name": "ipython",
    "version": 3
   },
   "file_extension": ".py",
   "mimetype": "text/x-python",
   "name": "python",
   "nbconvert_exporter": "python",
   "pygments_lexer": "ipython3",
   "version": "3.13.2"
  }
 },
 "nbformat": 4,
 "nbformat_minor": 5
}
